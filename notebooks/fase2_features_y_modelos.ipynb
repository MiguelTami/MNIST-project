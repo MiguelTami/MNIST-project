{
 "cells": [
  {
   "cell_type": "markdown",
   "id": "df7a5137-b7a6-45a4-a9f0-aeaf0244b658",
   "metadata": {},
   "source": [
    "El objetivo de esta fase es extraer las features manuales para entrenar nuestras primeras versionas de nuestro modelo. Las features que se manejarán serán \"promedio_intensidad\", \"proporcion_tinta_superior\", y \"simetria_vertical\""
   ]
  },
  {
   "cell_type": "markdown",
   "id": "8e00b523-1430-4d34-8d89-c23c27d3a12a",
   "metadata": {},
   "source": [
    "Antes de entrenar nuestro modelo con las features, vamos a dividir nuestro train dataset en 2 conjuntos de datos, train y validation, esto lo haremos con la intención de evitar el overfitting en nuestros modelos."
   ]
  },
  {
   "cell_type": "code",
   "execution_count": 1,
   "id": "aa17ad5e-bcf2-498b-bf6e-79af290d483f",
   "metadata": {},
   "outputs": [],
   "source": [
    "import pandas as pd\n",
    "from sklearn.model_selection import train_test_split\n",
    "import os\n",
    "\n",
    "# Ruta de guardado\n",
    "output_dir = \"../data/processed\"\n",
    "os.makedirs(output_dir, exist_ok=True)\n",
    "\n",
    "# Cargar mnist_train\n",
    "df_train = pd.read_csv(\"../data/raw/mnist_train.csv\")\n",
    "\n",
    "# Separar etiquetas e imágenes\n",
    "y = df_train.iloc[:, 0]  # columna 0 = etiquetas\n",
    "X = df_train.iloc[:, 1:] # columnas 1: = pixeles\n",
    "\n",
    "# Dividir en train (80%) y val (20%)\n",
    "X_train, X_val, y_train, y_val = train_test_split(\n",
    "    X, y, test_size=0.2, stratify=y, random_state=42\n",
    ")\n",
    "\n",
    "# Guardar en data/processed\n",
    "X_train.to_csv(f\"{output_dir}/X_train.csv\", index=False)\n",
    "y_train.to_csv(f\"{output_dir}/y_train.csv\", index=False)\n",
    "X_val.to_csv(f\"{output_dir}/X_val.csv\", index=False)\n",
    "y_val.to_csv(f\"{output_dir}/y_val.csv\", index=False)\n",
    "\n",
    "# Cargar y guardar el set de test completo\n",
    "df_test = pd.read_csv(\"../data/raw/mnist_test.csv\")\n",
    "y_test = df_test.iloc[:, 0]\n",
    "X_test = df_test.iloc[:, 1:]\n",
    "\n",
    "X_test.to_csv(f\"{output_dir}/X_test.csv\", index=False)\n",
    "y_test.to_csv(f\"{output_dir}/y_test.csv\", index=False)\n"
   ]
  },
  {
   "cell_type": "markdown",
   "id": "86b770f2-7d0a-4f1f-8d9b-22b4d9c314bf",
   "metadata": {},
   "source": [
    "Una vez que hemos dividido nuestro train dataset vamos a proceder a crear nuestra función para aplicarle nuestras features a cada imagen de nuestra data, en este caso las features están en el archivo python \"extractor\"."
   ]
  },
  {
   "cell_type": "code",
   "execution_count": 7,
   "id": "2f4e05ea-49de-40e5-95e2-48bf26035879",
   "metadata": {},
   "outputs": [],
   "source": [
    "import numpy as np\n",
    "import sys\n",
    "sys.path.append(\"..\") \n",
    "from features import extractor\n",
    "\n",
    "def generar_features(df_imagenes):\n",
    "    feature_list = []\n",
    "\n",
    "    for _, row in df_imagenes.iterrows():\n",
    "        img = row.values.reshape(28, 28)\n",
    "\n",
    "        features = [\n",
    "            extractor.intensidad_promedio(img),\n",
    "            extractor.varianza_intensidad(img),\n",
    "            extractor.densidad_superior(img),\n",
    "            extractor.simetria_vertical(img),\n",
    "            extractor.centro_masa_vertical(img)\n",
    "        ]\n",
    "\n",
    "        feature_list.append(features)\n",
    "\n",
    "    columnas = [\n",
    "        \"intensidad_promedio\",\n",
    "        \"varianza\",\n",
    "        \"densidad_superior\",\n",
    "        \"simetria_vertical\",\n",
    "        \"centro_masa_vertical\"\n",
    "    ]\n",
    "    \n",
    "    return pd.DataFrame(feature_list, columns=columnas)\n"
   ]
  },
  {
   "cell_type": "markdown",
   "id": "9aed5021-1ad2-40a1-a7cd-91065548b327",
   "metadata": {},
   "source": [
    "Una vez hemos asignado cada feature a su respectiva imagen, procedemos a crear un nuevo .csv con las features de nuestra train, val y test data "
   ]
  },
  {
   "cell_type": "code",
   "execution_count": 10,
   "id": "d755aaf8-8d22-4c5a-81c0-f64b94c5ebc5",
   "metadata": {},
   "outputs": [],
   "source": [
    "X_train_img = pd.read_csv(\"../data/processed/X_train.csv\")\n",
    "X_train_features = generar_features(X_train_img)\n",
    "X_train_features.to_csv(f\"{output_dir}/X_train_features.csv\", index=False)\n",
    "\n",
    "X_val_img = pd.read_csv(\"../data/processed/X_val.csv\")\n",
    "X_val_features = generar_features(X_val_img)\n",
    "X_val_features.to_csv(f\"{output_dir}/X_val_features.csv\", index=False)\n",
    "\n",
    "X_test_img = pd.read_csv(\"../data/processed/X_test.csv\")\n",
    "X_test_features = generar_features(X_test_img)\n",
    "X_test_features.to_csv(f\"{output_dir}/X_test_features.csv\", index=False)"
   ]
  },
  {
   "cell_type": "code",
   "execution_count": 9,
   "id": "7a5631e6-7ec1-4206-a6b1-d0f003cf5a60",
   "metadata": {},
   "outputs": [
    {
     "name": "stdout",
     "output_type": "stream",
     "text": [
      "       intensidad_promedio      varianza  densidad_superior  \\\n",
      "0                58.900510  10245.857449           0.404089   \n",
      "1                27.184949   5060.655845           0.475813   \n",
      "2                19.929847   3459.363701           0.439296   \n",
      "3                42.220663   7771.077583           0.499592   \n",
      "4                27.457908   4952.454861           0.546477   \n",
      "...                    ...           ...                ...   \n",
      "47994            49.110969   8562.187941           0.504169   \n",
      "47995            32.433673   5751.028764           0.497640   \n",
      "47996            37.014031   6711.661793           0.555154   \n",
      "47997            13.234694   2528.962776           0.524383   \n",
      "47998            35.595663   6576.309726           0.454151   \n",
      "\n",
      "       simetria_vertical  centro_masa_vertical  \n",
      "0              45.811224             13.901035  \n",
      "1              29.676020             13.655703  \n",
      "2              26.752551             13.939648  \n",
      "3              54.323980             14.437570  \n",
      "4              44.369898             13.723882  \n",
      "...                  ...                   ...  \n",
      "47994          53.752551             13.797211  \n",
      "47995          38.147959             13.748860  \n",
      "47996          45.349490             13.726007  \n",
      "47997          14.219388             13.694391  \n",
      "47998          35.288265             13.622854  \n",
      "\n",
      "[47999 rows x 5 columns]\n"
     ]
    }
   ],
   "source": [
    "print(X_train_features)"
   ]
  }
 ],
 "metadata": {
  "kernelspec": {
   "display_name": "Python 3 (ipykernel)",
   "language": "python",
   "name": "python3"
  },
  "language_info": {
   "codemirror_mode": {
    "name": "ipython",
    "version": 3
   },
   "file_extension": ".py",
   "mimetype": "text/x-python",
   "name": "python",
   "nbconvert_exporter": "python",
   "pygments_lexer": "ipython3",
   "version": "3.12.6"
  }
 },
 "nbformat": 4,
 "nbformat_minor": 5
}
